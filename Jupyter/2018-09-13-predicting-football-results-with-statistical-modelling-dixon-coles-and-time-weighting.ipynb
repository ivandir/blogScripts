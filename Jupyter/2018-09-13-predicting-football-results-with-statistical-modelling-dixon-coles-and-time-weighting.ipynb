{
 "cells": [
  {
   "cell_type": "markdown",
   "metadata": {},
   "source": [
    "# Predicting Football Results with Statistical Modelling: Dixon-Coles and Time-Weighting\n",
    "\n",
    "In an [earlier post](https://dashee87.github.io/football/python/predicting-football-results-with-statistical-modelling/), I showed how to build a simple Poisson model to crudely predict the outcome of football (soccer) matches.   In the same way teams herald slight changes to their traditional plain coloured jerseys as [ground breaking](http://www.skysports.com/football/news/11667/9931338/manchester-united-unveil-new-adidas-kit-for-201516-season) ([And this racing stripe here I feel is pretty sharp](http://www.youtube.com/watch?v=rOgS8gTATv8&t=1m16s)), I thought I'd show how that basic model could be tweaked and improved in order to achieve revolutionary status. \n",
    "\n",
    "The changes are motivated by a combination of intuition and statistics. The [Dixon-Coles](http://web.math.ku.dk/~rolf/teaching/thesis/DixonColes.pdf) model (named after the paper's authors) corrects for the basic model's underestimation of draws and it also incorporates a time component so that recent matches are considered more important in calculating average goals rate. This isn't a particularly novel idea for a blog post. There are numerous implementation of the Dixon-Coles model out there. Like any somewhat niche statistical modelling exercise, however, they are mostly available in R. I strongly recommend the excellent [opisthokonta blog](http://opisthokonta.net/?cat=48), especially if you're interested in more advanced models. If you're not interested in the theory and just want to start making predictions with R, then check out the [regista](https://github.com/Torvaney/regista) package on GitHub.\n",
    "\n",
    "As always, the corresponding [Jupyter notebook can be downloaded](https://github.com/dashee87/blogScripts/blob/master/Jupyter/2018-09-13-predicting-football-results-with-statistical-modelling-dixon-coles-and-time-weighting.ipynb) from [my GitHub](https://github.com/dashee87). I've also uploaded some [Python files](https://github.com/dashee87/blogScripts/tree/master/Python/2018-09-13-dixon-coles-and-time-weighting), if you'd prefer to skip the highly engaging commentary."
   ]
  },
  {
   "cell_type": "markdown",
   "metadata": {},
   "source": [
    "## Data\n",
    "\n",
    "We'll initially pull the match results for the EPL 2017/18 season from [football-data.co.uk](football-data.co.uk). This code is pretty much the same as [last time](https://dashee87.github.io/football/python/predicting-football-results-with-statistical-modelling/).  "
   ]
  },
  {
   "cell_type": "code",
   "execution_count": 1,
   "metadata": {},
   "outputs": [
    {
     "data": {
      "text/html": [
       "<div>\n",
       "<style scoped>\n",
       "    .dataframe tbody tr th:only-of-type {\n",
       "        vertical-align: middle;\n",
       "    }\n",
       "\n",
       "    .dataframe tbody tr th {\n",
       "        vertical-align: top;\n",
       "    }\n",
       "\n",
       "    .dataframe thead th {\n",
       "        text-align: right;\n",
       "    }\n",
       "</style>\n",
       "<table border=\"1\" class=\"dataframe\">\n",
       "  <thead>\n",
       "    <tr style=\"text-align: right;\">\n",
       "      <th></th>\n",
       "      <th>HomeTeam</th>\n",
       "      <th>AwayTeam</th>\n",
       "      <th>HomeGoals</th>\n",
       "      <th>AwayGoals</th>\n",
       "    </tr>\n",
       "  </thead>\n",
       "  <tbody>\n",
       "    <tr>\n",
       "      <th>0</th>\n",
       "      <td>Arsenal</td>\n",
       "      <td>Leicester</td>\n",
       "      <td>4</td>\n",
       "      <td>3</td>\n",
       "    </tr>\n",
       "    <tr>\n",
       "      <th>1</th>\n",
       "      <td>Brighton</td>\n",
       "      <td>Man City</td>\n",
       "      <td>0</td>\n",
       "      <td>2</td>\n",
       "    </tr>\n",
       "    <tr>\n",
       "      <th>2</th>\n",
       "      <td>Chelsea</td>\n",
       "      <td>Burnley</td>\n",
       "      <td>2</td>\n",
       "      <td>3</td>\n",
       "    </tr>\n",
       "    <tr>\n",
       "      <th>3</th>\n",
       "      <td>Crystal Palace</td>\n",
       "      <td>Huddersfield</td>\n",
       "      <td>0</td>\n",
       "      <td>3</td>\n",
       "    </tr>\n",
       "    <tr>\n",
       "      <th>4</th>\n",
       "      <td>Everton</td>\n",
       "      <td>Stoke</td>\n",
       "      <td>1</td>\n",
       "      <td>0</td>\n",
       "    </tr>\n",
       "  </tbody>\n",
       "</table>\n",
       "</div>"
      ],
      "text/plain": [
       "         HomeTeam      AwayTeam  HomeGoals  AwayGoals\n",
       "0         Arsenal     Leicester          4          3\n",
       "1        Brighton      Man City          0          2\n",
       "2         Chelsea       Burnley          2          3\n",
       "3  Crystal Palace  Huddersfield          0          3\n",
       "4         Everton         Stoke          1          0"
      ]
     },
     "execution_count": 1,
     "metadata": {},
     "output_type": "execute_result"
    }
   ],
   "source": [
    "import pandas as pd\n",
    "import matplotlib.pyplot as plt\n",
    "import numpy as np\n",
    "import seaborn as sns\n",
    "from scipy.stats import poisson,skellam\n",
    "from scipy.optimize import minimize\n",
    "\n",
    "epl_1718 = pd.read_csv(\"http://www.football-data.co.uk/mmz4281/1718/E0.csv\")\n",
    "epl_1718 = epl_1718[['HomeTeam','AwayTeam','FTHG','FTAG']]\n",
    "epl_1718 = epl_1718.rename(columns={'FTHG': 'HomeGoals', 'FTAG': 'AwayGoals'})\n",
    "epl_1718.head()"
   ]
  },
  {
   "cell_type": "markdown",
   "metadata": {},
   "source": [
    "## Basic Poisson Model\n",
    "\n",
    "I won't spend too long on this model, as it was the subject of the [previous post](https://dashee87.github.io/football/python/predicting-football-results-with-statistical-modelling/). Essentially, you treat the number of goals scored by each team as two independent Poisson distributions (henceforth called the Basic Poisson (BP) model). The shape of each distribution is determined by the average number of goals scored by that team. A little reminder on the mathematical definition of the Poisson distribution:\n",
    "\n",
    "$$\n",
    "P\\left( x \\right) = \\frac{e^{-\\lambda} \\lambda ^x }{x!}, \\lambda>0\n",
    "$$\n",
    "\n",
    "In our case, $\\lambda$ represents the team's average or expected goal scoring rate. The Poisson distribution is a decent approximation of a team's scoring frequency. All of the model's discussed here agree on this point; the disagreement centres on how to calculate $\\lambda_{home}$ and $\\lambda_{away}$."
   ]
  },
  {
   "cell_type": "code",
   "execution_count": 2,
   "metadata": {},
   "outputs": [
    {
     "data": {
      "image/png": "[encoded data removed]",
      "text/plain": [
       "<matplotlib.figure.Figure at 0x174059b0>"
      ]
     },
     "metadata": {},
     "output_type": "display_data"
    }
   ],
   "source": [
    "# construct Poisson  for each mean goals value\n",
    "poisson_pred = np.column_stack([[poisson.pmf(i, epl_1718.mean()[j]) for i in range(8)] for j in range(2)])\n",
    "\n",
    "fig, ax = plt.subplots(figsize=(9,4))  \n",
    "# plot histogram of actual goals\n",
    "plt.hist(epl_1718[['HomeGoals', 'AwayGoals']].values, range(9), \n",
    "         alpha=0.7, label=['Home', 'Away'],normed=True, color=[\"#FFA07A\", \"#20B2AA\"])\n",
    "\n",
    "# add lines for the Poisson distributions\n",
    "pois1, = plt.plot([i-0.5 for i in range(1,9)], poisson_pred[:,0],\n",
    "                  linestyle='-', marker='o',label=\"Home\", color = '#CD5C5C')\n",
    "pois2, = plt.plot([i-0.5 for i in range(1,9)], poisson_pred[:,1],\n",
    "                  linestyle='-', marker='o',label=\"Away\", color = '#006400')\n",
    "\n",
    "leg=plt.legend(loc='upper right', fontsize=13, ncol=2)\n",
    "leg.set_title(\"Poisson           Actual        \", prop = {'size':'14', 'weight':'bold'})\n",
    "\n",
    "plt.xticks([i-0.5 for i in range(1,9)],[i for i in range(9)])\n",
    "plt.xlabel(\"Goals per Match\",size=13)\n",
    "plt.ylabel(\"Proportion of Matches\",size=13)\n",
    "plt.title(\"Number of Goals per Match (EPL 2017/18 Season)\",size=14,fontweight='bold')\n",
    "plt.ylim([-0.004, 0.4])\n",
    "plt.tight_layout()\n",
    "plt.show()"
   ]
  },
  {
   "cell_type": "markdown",
   "metadata": {},
   "source": [
    "We can formulate the model in mathematical terms:\n",
    "$$\n",
    "P\\left(X_{i,j} = x, Y_{j,i} = y \\right) = \\frac{e^{-\\lambda} \\lambda^x }{x!} \\frac{e^{-\\mu} \\mu^y }{y!}\n",
    "\\\\ \\text{where } \\quad \\lambda = \\alpha_i \\beta_j \\gamma \\quad \\mu = \\alpha_j \\beta_i\n",
    "$$\n",
    "\n",
    "In this equation, $i$ and $j$ refer to the home and away teams, respectively; $\\alpha$ and $\\beta$ denote each team's attack and defensive strength, respectively, while $\\gamma$ represents the home advantage factor. So, we need to calculate $\\alpha$ and $\\beta$ for each team, as well as $\\gamma$ (the home field advantage term- it's the same value for every team). As this was explained in the [previous post](https://dashee87.github.io/football/python/predicting-football-results-with-statistical-modelling/), I'll just show the model output."
   ]
  },
  {
   "cell_type": "code",
   "execution_count": 3,
   "metadata": {},
   "outputs": [
    {
     "name": "stderr",
     "output_type": "stream",
     "text": [
      "C:\\Program Files\\Anaconda3\\lib\\site-packages\\statsmodels\\compat\\pandas.py:56: FutureWarning: The pandas.core.datetools module is deprecated and will be removed in a future version. Please use the pandas.tseries module instead.\n",
      "  from pandas.core import datetools\n"
     ]
    },
    {
     "name": "stdout",
     "output_type": "stream",
     "text": [
      "                 Generalized Linear Model Regression Results                  \n",
      "==============================================================================\n",
      "Dep. Variable:                  goals   No. Observations:                  760\n",
      "Model:                            GLM   Df Residuals:                      720\n",
      "Model Family:                 Poisson   Df Model:                           39\n",
      "Link Function:                    log   Scale:                             1.0\n",
      "Method:                          IRLS   Log-Likelihood:                -1052.3\n",
      "Date:                Thu, 13 Sep 2018   Deviance:                       796.97\n",
      "Time:                        21:10:01   Pearson chi2:                     683.\n",
      "No. Iterations:                     5                                         \n",
      "==============================================================================================\n",
      "                                 coef    std err          z      P>|z|      [0.025      0.975]\n",
      "----------------------------------------------------------------------------------------------\n",
      "Intercept                      0.5427      0.189      2.878      0.004       0.173       0.912\n",
      "team[T.Bournemouth]           -0.4886      0.189     -2.580      0.010      -0.860      -0.117\n",
      "team[T.Brighton]              -0.7769      0.207     -3.745      0.000      -1.183      -0.370\n",
      "team[T.Burnley]               -0.7349      0.203     -3.612      0.000      -1.134      -0.336\n",
      "team[T.Chelsea]               -0.1912      0.172     -1.109      0.268      -0.529       0.147\n",
      "team[T.Crystal Palace]        -0.4949      0.189     -2.614      0.009      -0.866      -0.124\n",
      "team[T.Everton]               -0.5143      0.191     -2.697      0.007      -0.888      -0.141\n",
      "team[T.Huddersfield]          -0.9673      0.222     -4.354      0.000      -1.403      -0.532\n",
      "team[T.Leicester]             -0.2703      0.177     -1.523      0.128      -0.618       0.078\n",
      "team[T.Liverpool]              0.1134      0.160      0.710      0.478      -0.200       0.426\n",
      "team[T.Man City]               0.3351      0.152      2.208      0.027       0.038       0.633\n",
      "team[T.Man United]            -0.1090      0.168     -0.648      0.517      -0.439       0.221\n",
      "team[T.Newcastle]             -0.6466      0.198     -3.263      0.001      -1.035      -0.258\n",
      "team[T.Southampton]           -0.6901      0.202     -3.422      0.001      -1.085      -0.295\n",
      "team[T.Stoke]                 -0.7334      0.205     -3.569      0.000      -1.136      -0.331\n",
      "team[T.Swansea]               -0.9693      0.222     -4.364      0.000      -1.405      -0.534\n",
      "team[T.Tottenham]             -0.0159      0.165     -0.096      0.923      -0.339       0.307\n",
      "team[T.Watford]               -0.5080      0.191     -2.664      0.008      -0.882      -0.134\n",
      "team[T.West Brom]             -0.8674      0.214     -4.049      0.000      -1.287      -0.448\n",
      "team[T.West Ham]              -0.4165      0.186     -2.243      0.025      -0.780      -0.053\n",
      "opponent[T.Bournemouth]        0.1491      0.190      0.784      0.433      -0.224       0.522\n",
      "opponent[T.Brighton]           0.0155      0.196      0.079      0.937      -0.368       0.399\n",
      "opponent[T.Burnley]           -0.3084      0.213     -1.448      0.148      -0.726       0.109\n",
      "opponent[T.Chelsea]           -0.3079      0.215     -1.434      0.152      -0.729       0.113\n",
      "opponent[T.Crystal Palace]     0.0452      0.195      0.232      0.816      -0.336       0.427\n",
      "opponent[T.Everton]            0.0974      0.192      0.507      0.612      -0.279       0.474\n",
      "opponent[T.Huddersfield]       0.0809      0.192      0.421      0.674      -0.296       0.458\n",
      "opponent[T.Leicester]          0.1440      0.191      0.755      0.450      -0.230       0.518\n",
      "opponent[T.Liverpool]         -0.2847      0.215     -1.326      0.185      -0.706       0.136\n",
      "opponent[T.Man City]          -0.6041      0.238     -2.534      0.011      -1.071      -0.137\n",
      "opponent[T.Man United]        -0.6077      0.236     -2.580      0.010      -1.069      -0.146\n",
      "opponent[T.Newcastle]         -0.1185      0.203     -0.585      0.558      -0.515       0.278\n",
      "opponent[T.Southampton]        0.0550      0.194      0.284      0.777      -0.325       0.435\n",
      "opponent[T.Stoke]              0.2476      0.186      1.334      0.182      -0.116       0.611\n",
      "opponent[T.Swansea]            0.0458      0.194      0.236      0.813      -0.334       0.426\n",
      "opponent[T.Tottenham]         -0.3495      0.218     -1.603      0.109      -0.777       0.078\n",
      "opponent[T.Watford]            0.1962      0.188      1.043      0.297      -0.172       0.565\n",
      "opponent[T.West Brom]          0.0489      0.194      0.252      0.801      -0.331       0.429\n",
      "opponent[T.West Ham]           0.2612      0.186      1.407      0.159      -0.103       0.625\n",
      "home                           0.2888      0.063      4.560      0.000       0.165       0.413\n",
      "==============================================================================================\n"
     ]
    }
   ],
   "source": [
    "# importing the tools required for the Poisson regression model\n",
    "import statsmodels.api as sm\n",
    "import statsmodels.formula.api as smf\n",
    "\n",
    "goal_model_data = pd.concat([epl_1718[['HomeTeam','AwayTeam','HomeGoals']].assign(home=1).rename(\n",
    "            columns={'HomeTeam':'team', 'AwayTeam':'opponent','HomeGoals':'goals'}),\n",
    "           epl_1718[['AwayTeam','HomeTeam','AwayGoals']].assign(home=0).rename(\n",
    "            columns={'AwayTeam':'team', 'HomeTeam':'opponent','AwayGoals':'goals'})])\n",
    "\n",
    "poisson_model = smf.glm(formula=\"goals ~ home + team + opponent\", data=goal_model_data, \n",
    "                        family=sm.families.Poisson()).fit()\n",
    "\n",
    "print(poisson_model.summary())"
   ]
  },
  {
   "cell_type": "code",
   "execution_count": 4,
   "metadata": {},
   "outputs": [
    {
     "data": {
      "text/plain": [
       "1    2.426661\n",
       "dtype: float64"
      ]
     },
     "execution_count": 4,
     "metadata": {},
     "output_type": "execute_result"
    }
   ],
   "source": [
    "poisson_model.predict(pd.DataFrame(data={'team': 'Arsenal', 'opponent': 'Southampton',\n",
    "                                       'home':1},index=[1]))"
   ]
  },
  {
   "cell_type": "code",
   "execution_count": 5,
   "metadata": {},
   "outputs": [
    {
     "data": {
      "text/plain": [
       "1    0.862952\n",
       "dtype: float64"
      ]
     },
     "execution_count": 5,
     "metadata": {},
     "output_type": "execute_result"
    }
   ],
   "source": [
    "poisson_model.predict(pd.DataFrame(data={'team': 'Southampton', 'opponent': 'Arsenal',\n",
    "                                       'home':0},index=[1]))"
   ]
  },
  {
   "cell_type": "markdown",
   "metadata": {},
   "source": [
    "As an example, Arsenal (playing at home) would be expected to score 2.43 goals against Southampton, while their opponents would get about 0.86 goals on average (I'm using the terms average and expected interchangeably). As each team is treated independently, we can construct a match score probability matrix."
   ]
  },
  {
   "cell_type": "code",
   "execution_count": 6,
   "metadata": {},
   "outputs": [
    {
     "name": "stdout",
     "output_type": "stream",
     "text": [
      "[[ 0.03726828  0.03216072  0.01387657  0.0039916   0.00086114]\n",
      " [ 0.09043748  0.07804317  0.03367374  0.00968627  0.0020897 ]\n",
      " [ 0.10973057  0.09469217  0.04085738  0.01175265  0.00253549]\n",
      " [ 0.08875964  0.07659527  0.033049    0.00950656  0.00205093]\n",
      " [ 0.05384739  0.04646769  0.02004968  0.0057673   0.00124423]]\n"
     ]
    }
   ],
   "source": [
    "def simulate_match(foot_model, homeTeam, awayTeam, max_goals=10):\n",
    "    home_goals_avg = foot_model.predict(pd.DataFrame(data={'team': homeTeam, \n",
    "                                                            'opponent': awayTeam,'home':1},\n",
    "                                                      index=[1])).values[0]\n",
    "    away_goals_avg = foot_model.predict(pd.DataFrame(data={'team': awayTeam, \n",
    "                                                            'opponent': homeTeam,'home':0},\n",
    "                                                      index=[1])).values[0]\n",
    "    team_pred = [[poisson.pmf(i, team_avg) for i in range(0, max_goals+1)] for team_avg in [home_goals_avg, away_goals_avg]]\n",
    "    return(np.outer(np.array(team_pred[0]), np.array(team_pred[1])))\n",
    "ars_sou = simulate_match(poisson_model, 'Arsenal', 'Southampton', max_goals=10)\n",
    "print(ars_sou[0:5, 0:5])"
   ]
  },
  {
   "cell_type": "code",
   "execution_count": 7,
   "metadata": {},
   "outputs": [],
   "source": [
    "from matplotlib.colors import ListedColormap\n",
    "\n",
    "def matrix_gif(matrix, colour_matrix, colour_map, subtitle=\"\", heatmap=False, alpha=0.8):\n",
    "    fig, ax1 = plt.subplots(1, figsize=(5,5))\n",
    "    if heatmap:\n",
    "        ax1.matshow(matrix, alpha=alpha)\n",
    "    else:\n",
    "        ax1.matshow(colour_matrix, cmap=colour_map, alpha=alpha)\n",
    "    ax1.tick_params(axis=u'both', which=u'both',length=0)\n",
    "    ax1.grid(which='major', axis='both', linestyle='')\n",
    "    ax1.set_xlabel('Away Team Goals', fontsize=12)\n",
    "    ax1.set_ylabel('Home Team Goals', fontsize=12)\n",
    "    ax1.xaxis.set_label_position('top')\n",
    "    nrows, ncols = matrix.shape\n",
    "    for i in range(nrows):\n",
    "        for j in range(ncols):\n",
    "            c = matrix[i][j]\n",
    "            ax1.text(j, i, str(round(c,4)), va='center', ha='center', size=13)\n",
    "    plt.figtext(0.5, 0.05, subtitle, horizontalalignment='center',\n",
    "                fontsize=14, multialignment='left', fontweight='bold')\n",
    "    return fig\n",
    "\n",
    "cmap = ListedColormap(['w', '#04f5ff', '#00ff85', '#e90052'])\n",
    "matrix = simulate_match(poisson_model, 'Arsenal', 'Southampton', max_goals=5)\n",
    "matn = len(matrix)\n",
    "matrix_gif(matrix, matrix, ListedColormap(['w']), heatmap=True, \n",
    "           alpha=0.6, subtitle=\"Match Score Probability Matrix\").savefig(\"match_matrix_0.png\")\n",
    "plt.close()\n",
    "for t,(mat,colour,subtitle) in enumerate(zip([np.zeros((matn, matn)), np.tril(np.ones((matn,matn)),-1),\n",
    "                            np.triu(np.ones((matn,matn))*2,1), np.diag([3]*matn),\n",
    "                                             np.array([0 if i+j<3 else 1 for i in range(matn) for j in range(matn)]).reshape(matn,matn)],\n",
    "                          ['w', '#04f5ff', '#00ff85', '#e90052','#EAF205'],\n",
    "                                   ['Match Score Probability Matrix', 'Home Win', 'Away Win', 'Draw', 'Over 2.5 goals'])):\n",
    "    matrix_gif(matrix, mat, ListedColormap(['w'] + [colour]), heatmap=False, \n",
    "               alpha=0.6, subtitle=subtitle).savefig(\"match_matrix_{}.png\".format(t+1))\n",
    "    plt.close()"
   ]
  },
  {
   "cell_type": "markdown",
   "metadata": {},
   "source": [
    "![match_score_probability_matrix](https://github.com/dashee87/dashee87.github.io/blob/master/images/match_matrix.gif?raw=true)"
   ]
  },
  {
   "cell_type": "markdown",
   "metadata": {},
   "source": [
    "First [published by Maher in 1982](http://www.90minut.pl/misc/maher.pdf), the BP model still serves a good starting point from which you can add features that more closely reflect the reality. That brings us onto the Dixon Coles (DC) model."
   ]
  },
  {
   "cell_type": "markdown",
   "metadata": {},
   "source": [
    "## Dixon-Coles Model\n",
    "\n",
    "In their [1997 paper](http://web.math.ku.dk/~rolf/teaching/thesis/DixonColes.pdf), Mark Dixon and Stuart Coles proposed two specific improvements to the BP model:\n",
    "* Introduce an interaction term to correct underestimated frequency of low scoring matches\n",
    "* Apply time decay component so that recent matches are weighted more strongly\n",
    "\n",
    "The authors claim that low score results (0-0, 1-0, 0-1 and 1-1) are inherently under-reported by the BP model. In the paper, they provide some analysis that supports their case- though I wouldn't call their approach particularly rigorous. The matrix below shows the average difference between actual and model predicted scorelines for the 2005/06 season all the way up to the 2017/18 season. Green cells imply the model underestimated those scorelines, while red cells suggest overestimation- the colour strength indicates the level of disagreement."
   ]
  },
  {
   "cell_type": "code",
   "execution_count": 8,
   "metadata": {},
   "outputs": [],
   "source": [
    "def poiss_actual_diff(football_url, max_goals):\n",
    "    epl_1718 = pd.read_csv(football_url)\n",
    "    epl_1718 = epl_1718[['HomeTeam','AwayTeam','FTHG','FTAG']]\n",
    "    epl_1718 = epl_1718.rename(columns={'FTHG': 'HomeGoals', 'FTAG': 'AwayGoals'})\n",
    "    team_pred = [[poisson.pmf(i, team_avg) for i in range(0, max_goals)] \\\n",
    "                 for team_avg in [epl_1718['HomeGoals'].mean(), epl_1718['AwayGoals'].mean()]]\n",
    "    return np.outer(np.array(team_pred[0]), np.array(team_pred[1])) - \\\n",
    "        np.array([sum((epl_1718['HomeGoals']==i) & (epl_1718['AwayGoals']==j)) \n",
    "                  for i in range(max_goals) for j in range(max_goals)]).reshape((6,6))/len(epl_1718)\n",
    "\n",
    "year_arrays = []\n",
    "for year in range(2005,2018):\n",
    "    year_arrays.append(poiss_actual_diff(\"http://www.football-data.co.uk/mmz4281/{}{}/E0.csv\".format(\n",
    "        str(year)[-2:], str(year+1)[-2:]),6))"
   ]
  },
  {
   "cell_type": "code",
   "execution_count": 10,
   "metadata": {},
   "outputs": [
    {
     "data": {
      "image/png": "[encoded data removed]",
      "text/plain": [
       "<matplotlib.figure.Figure at 0x1b9c2da0>"
      ]
     },
     "metadata": {},
     "output_type": "display_data"
    }
   ],
   "source": [
    "cmap = sns.diverging_palette(10, 133, as_cmap=True)\n",
    "\n",
    "fig, ax = plt.subplots(figsize=(5,5))  \n",
    "with sns.axes_style(\"white\"):\n",
    "    ax = sns.heatmap(np.mean(year_arrays, axis=0), annot=True, fmt='.4f', cmap=cmap, vmin=-0.013, vmax=.013, center=0.00,\n",
    "                square=True, linewidths=.5, annot_kws={\"size\": 11}, cbar_kws={\"shrink\": .8})\n",
    "    ax.tick_params(axis=u'both', which=u'both',length=0)\n",
    "    ax.grid(which='major', axis='both', linestyle='')\n",
    "    ax.set_xlabel('Away Team Goals', fontsize=13)\n",
    "    ax.set_ylabel('Home Team Goals', fontsize=13)\n",
    "    ax.xaxis.set_label_position('top')\n",
    "    ax.xaxis.set_ticks_position('top')\n",
    "    plt.figtext(0.45, 0.1, 'Actual Proportion - Model Probability', horizontalalignment='center',\n",
    "                fontsize=14, multialignment='left', fontweight='bold')\n",
    "plt.tight_layout()\n",
    "plt.show()"
   ]
  },
  {
   "cell_type": "markdown",
   "metadata": {},
   "source": [
    "There does seem to be an issue around low scoring draws, though it is less apparent with 1-0 and 0-1 results. The Dixon-Coles (DC) model applies a correction to the BP model. It can be written in these mathematical terms:\n",
    "\n",
    "$$\n",
    "P\\left(X_{i,j} = x, Y_{j,i} = y \\right) = \\tau_{\\lambda, \\mu}(x) \\frac{e^{-\\lambda} \\lambda^x }{x!} \\frac{e^{-\\mu} \\mu^y }{y!}\n",
    "\\\\ \\text{where } \\quad \\lambda = \\alpha_i \\beta_j \\gamma \\quad \\mu = \\alpha_j \\beta_i\n",
    "\\\\\n",
    "\\tau_{\\lambda, \\mu}(x, y) =\n",
    "  \\begin{cases}\n",
    "                                   1 - \\lambda \\mu \\rho & \\text{if $x = y = 0$} \\\\\n",
    "                                   1 - \\lambda \\rho & \\text{if $x=0$, $y=1$} \\\\\n",
    "                                   1 + \\mu \\rho & \\text{if $x=0$, $y=1$} \\\\\n",
    "                                   1 - \\rho & \\text{if $x = y = 1$} \\\\\n",
    "                                   1 & \\text{otherwise} \\\\\n",
    "  \\end{cases}\n",
    "$$"
   ]
  },
  {
   "cell_type": "markdown",
   "metadata": {},
   "source": [
    "The key difference over the BP model is the addition of the $\\tau$ (tau) function. It is highly dependent on the $\\rho$ (rho) parameter, which controls the strength of the correction (note: setting $\\rho$=0 equates to the standard BP model). We can easily convert $\\tau_{\\lambda, \\mu}(x, y)$ to Python code."
   ]
  },
  {
   "cell_type": "code",
   "execution_count": 11,
   "metadata": {},
   "outputs": [],
   "source": [
    "def rho_correction(x, y, lambda_x, mu_y, rho):\n",
    "    if x==0 and y==0:\n",
    "        return 1- (lambda_x * mu_y * rho)\n",
    "    elif x==0 and y==1:\n",
    "        return 1 + (lambda_x * rho)\n",
    "    elif x==1 and y==0:\n",
    "        return 1 + (mu_y * rho)\n",
    "    elif x==1 and y==1:\n",
    "        return 1 - rho\n",
    "    else:\n",
    "        return 1.0"
   ]
  },
  {
   "cell_type": "markdown",
   "metadata": {},
   "source": [
    "Unfortunately, you can't just update your match score matrix with this function; you need to recalculate the various coefficients that go into the model. And unfortunately again, you can't just implement an off the shelf generalised linear model, as we did before. We have to construct the likelihood function and find the coefficients that maximise it- a technique known as [Maximum Likelihood Estimation](https://en.wikipedia.org/wiki/Maximum_likelihood_estimation). With matches indexed $k=1,\\dots,N$ and corresponding scores ($x_k$, $y_k$), this is the likelihood function that we seek to maximise:\n",
    "\n",
    "$$\n",
    "L(\\alpha_i, \\beta_i, \\rho, \\gamma, i=1,\\dots,n) = \\prod_{k=1}^{N} \\tau_{\\lambda_k,\\mu_k}(x_k, y_k) \\ \\frac{e^{-\\lambda} \\lambda^{x_k} }{x_k!} \\frac{e^{-\\mu} \\mu^{y_k} }{y_k!}\n",
    "\\\\ \\text{where } \\quad \\lambda_k = \\alpha_{i(k)} \\beta_{j(k)} \\gamma \\quad \\mu_k = \\alpha_{j(k)} \\beta_{i(k)}\n",
    "$$\n",
    "\n",
    "In this equation, $i(k)$ and $j(k)$ respectively denote the indices of the home and away teams in match $k$. For a few [different reasons](https://www.quora.com/Why-is-log-likelihood-so-widely-used-in-Machine-Learning) (numerical precision, practicality, etc.), we'll actually maximise the log-likelihood function. As the logarithm is a strictly increasing function (i.e. $\\log(b) > \\log(a) \\ \\forall \\ b > a$), both likelihood functions are maximised at the same point. Also, recall that $\\log(a \\ b) = \\log(a) + \\log(b)$. We can thus write the log-likelihood function in Python code."
   ]
  },
  {
   "cell_type": "code",
   "execution_count": 12,
   "metadata": {},
   "outputs": [],
   "source": [
    "def dc_log_like(x, y, alpha_x, beta_x, alpha_y, beta_y, rho, gamma):\n",
    "    lambda_x, mu_y = np.exp(alpha_x + beta_y + gamma), np.exp(alpha_y + beta_x) \n",
    "    return (np.log(rho_correction(x, y, lambda_x, mu_y, rho)) + \n",
    "            np.log(poisson.pmf(x, lambda_x)) + np.log(poisson.pmf(y, mu_y)))"
   ]
  },
  {
   "cell_type": "markdown",
   "metadata": {},
   "source": [
    "You may have noticed that `dc_log_like` included a transformation of $\\lambda$ and $\\mu$, where  $\\lambda = \\exp(\\alpha_i + \\beta_j + \\gamma)$ and $\\mu = \\exp(\\alpha_j + \\beta_i)$, so that we're essentially trying to calculate expected log goals. This is equivalent to the log [link function](https://en.wikipedia.org/wiki/Generalized_linear_model) in the previous BP glm implementation. It shouldn't really affect model accuracy, it just means that convergence of the maximisation algorithm should be easier as $\\lambda, \\mu > 0 \\ \\forall \\ \\alpha, \\beta, \\gamma$. Non-positive lambdas are not compatible with a Poisson distribution, so this would return warnings and/or errors during implementation.\n",
    "\n",
    "We're now ready to find the parameters that maximise the log likelihood function. Basically, you design a function that takes a set of model parameters as an argument. You set some initial values and potentially include some constraints and select the appropriate optimisation algorithm. I've opted for scipy's [minimise function](https://docs.scipy.org/doc/scipy/reference/generated/scipy.optimize.minimize.html) (a possible alternative is [fmin](https://docs.scipy.org/doc/scipy/reference/generated/scipy.optimize.fmin.html)- note: the functions  seek to minimise the negative log-likelihood). It employs a process analogous to gradient descent, so that the algorithm iteratively converges to the optimal parameter set. The computation can be quite slow as it's forced to approximate the derivatives. If you're not as lazy as me, you could potentially speed it up by [manually constructing the partial derivatives](https://projekter.aau.dk/projekter/files/14466581/AssessingTheNumberOfGoalsInSoccerMatches.pdf#page=61). \n",
    "\n",
    "In line with the original [Dixon Coles paper](http://web.math.ku.dk/~rolf/teaching/thesis/DixonColes.pdf) and the [opisthokonta blog](https://opisthokonta.net/?p=890), I've added the constraint that $\\frac{1}{n}\\sum_{i} \\alpha_{i}=1$ (i.e. the average attack strength value is 1). This step isn't strictly necessary, but it means that it should return a unique solution (otherwise, the model would suffer from overparamterisation and each execution would return different coefficients).\n",
    "\n",
    "Okay, we're ready to find the coefficients that maximise the log-likelihood function for the 2017/18 EPL season."
   ]
  },
  {
   "cell_type": "code",
   "execution_count": 13,
   "metadata": {},
   "outputs": [],
   "source": [
    "def solve_parameters(dataset, debug = False, init_vals=None, options={'disp': True, 'maxiter':100},\n",
    "                     constraints = [{'type':'eq', 'fun': lambda x: sum(x[:20])-20}] , **kwargs):\n",
    "    teams = np.sort(dataset['HomeTeam'].unique())\n",
    "    # check for no weirdness in dataset\n",
    "    away_teams = np.sort(dataset['AwayTeam'].unique())\n",
    "    if not np.array_equal(teams, away_teams):\n",
    "        raise ValueError(\"Something's not right\")\n",
    "    n_teams = len(teams)\n",
    "    if init_vals is None:\n",
    "        # random initialisation of model parameters\n",
    "        init_vals = np.concatenate((np.random.uniform(0,1,(n_teams)), # attack strength\n",
    "                                      np.random.uniform(0,-1,(n_teams)), # defence strength\n",
    "                                      np.array([0, 1.0]) # rho (score correction), gamma (home advantage)\n",
    "                                     ))\n",
    "    def dc_log_like(x, y, alpha_x, beta_x, alpha_y, beta_y, rho, gamma):\n",
    "        lambda_x, mu_y = np.exp(alpha_x + beta_y + gamma), np.exp(alpha_y + beta_x) \n",
    "        return (np.log(rho_correction(x, y, lambda_x, mu_y, rho)) + \n",
    "                np.log(poisson.pmf(x, lambda_x)) + np.log(poisson.pmf(y, mu_y)))\n",
    "\n",
    "    def estimate_paramters(params):\n",
    "        score_coefs = dict(zip(teams, params[:n_teams]))\n",
    "        defend_coefs = dict(zip(teams, params[n_teams:(2*n_teams)]))\n",
    "        rho, gamma = params[-2:]\n",
    "        log_like = [dc_log_like(row.HomeGoals, row.AwayGoals, score_coefs[row.HomeTeam], defend_coefs[row.HomeTeam],\n",
    "                     score_coefs[row.AwayTeam], defend_coefs[row.AwayTeam], rho, gamma) for row in dataset.itertuples()]\n",
    "        return -sum(log_like)\n",
    "    opt_output = minimize(estimate_paramters, init_vals, options=options, constraints = constraints, **kwargs)\n",
    "    if debug:\n",
    "        # sort of hacky way to investigate the output of the optimisation process\n",
    "        return opt_output\n",
    "    else:\n",
    "        return dict(zip([\"attack_\"+team for team in teams] + \n",
    "                        [\"defence_\"+team for team in teams] +\n",
    "                        ['rho', 'home_adv'],\n",
    "                        opt_output.x)) "
   ]
  },
  {
   "cell_type": "code",
   "execution_count": 14,
   "metadata": {},
   "outputs": [
    {
     "name": "stderr",
     "output_type": "stream",
     "text": [
      "C:\\Program Files\\Anaconda3\\lib\\site-packages\\ipykernel\\__main__.py:18: RuntimeWarning: divide by zero encountered in log\n",
      "C:\\Program Files\\Anaconda3\\lib\\site-packages\\ipykernel\\__main__.py:18: RuntimeWarning: invalid value encountered in log\n"
     ]
    },
    {
     "name": "stdout",
     "output_type": "stream",
     "text": [
      "Optimization terminated successfully.    (Exit mode 0)\n",
      "            Current function value: 1050.8007470612197\n",
      "            Iterations: 59\n",
      "            Function evaluations: 2686\n",
      "            Gradient evaluations: 59\n"
     ]
    }
   ],
   "source": [
    "params = solve_parameters(epl_1718)"
   ]
  },
  {
   "cell_type": "code",
   "execution_count": 15,
   "metadata": {},
   "outputs": [
    {
     "data": {
      "text/plain": [
       "{'attack_Arsenal': 1.4475979687242637,\n",
       " 'attack_Bournemouth': 0.95642625039581197,\n",
       " 'attack_Brighton': 0.68468709297919539,\n",
       " 'attack_Burnley': 0.6982789635725184,\n",
       " 'attack_Chelsea': 1.2571766244825118,\n",
       " 'attack_Crystal Palace': 0.949379193906982,\n",
       " 'attack_Everton': 0.9377371529083578,\n",
       " 'attack_Huddersfield': 0.48932407583153903,\n",
       " 'attack_Leicester': 1.1899086219850228,\n",
       " 'attack_Liverpool': 1.5643426131699321,\n",
       " 'attack_Man City': 1.7860174075609396,\n",
       " 'attack_Man United': 1.3309666700122968,\n",
       " 'attack_Newcastle': 0.76714406352242737,\n",
       " 'attack_Southampton': 0.76511285120334682,\n",
       " 'attack_Stoke': 0.71952717061251126,\n",
       " 'attack_Swansea': 0.46650357431791262,\n",
       " 'attack_Tottenham': 1.4273667340692617,\n",
       " 'attack_Watford': 0.93383959896644608,\n",
       " 'attack_West Brom': 0.58370385483622522,\n",
       " 'attack_West Ham': 1.044959516942499,\n",
       " 'defence_Arsenal': -0.90578058091611136,\n",
       " 'defence_Bournemouth': -0.75852038782099263,\n",
       " 'defence_Brighton': -0.89459663490578023,\n",
       " 'defence_Burnley': -1.2267842319993145,\n",
       " 'defence_Chelsea': -1.2204615682141771,\n",
       " 'defence_Crystal Palace': -0.85365582505796267,\n",
       " 'defence_Everton': -0.80968807387581632,\n",
       " 'defence_Huddersfield': -0.82647593102684014,\n",
       " 'defence_Leicester': -0.75485686293273691,\n",
       " 'defence_Liverpool': -1.1755975101025888,\n",
       " 'defence_Man City': -1.515918430867913,\n",
       " 'defence_Man United': -1.51839885047322,\n",
       " 'defence_Newcastle': -1.0403534553165155,\n",
       " 'defence_Southampton': -0.84979673520038324,\n",
       " 'defence_Stoke': -0.66259200605060253,\n",
       " 'defence_Swansea': -0.8656889473241417,\n",
       " 'defence_Tottenham': -1.2718694232570227,\n",
       " 'defence_Watford': -0.70913815844035122,\n",
       " 'defence_West Brom': -0.87018838569785406,\n",
       " 'defence_West Ham': -0.6432218106489519,\n",
       " 'home_adv': 0.2944590472184494,\n",
       " 'rho': -0.12851515187235166}"
      ]
     },
     "execution_count": 15,
     "metadata": {},
     "output_type": "execute_result"
    }
   ],
   "source": [
    "params"
   ]
  },
  {
   "cell_type": "markdown",
   "metadata": {},
   "source": [
    "The optimal `rho` value (-0.1285) returned by the model fits quite nicely with the value (-0.13) given in the equivalent [opisthokonta blog post](https://opisthokonta.net/?p=890). We can now start making some predictions by constructing match score matrices based on these model parameters. This part is quite similar to BP model, except for the correction applied to the 0-0, 1-0, 0-1 and 1-1 matrix elements."
   ]
  },
  {
   "cell_type": "code",
   "execution_count": 16,
   "metadata": {},
   "outputs": [],
   "source": [
    "def calc_means(param_dict, homeTeam, awayTeam):\n",
    "    return [np.exp(param_dict['attack_'+homeTeam] + param_dict['defence_'+awayTeam] + param_dict['home_adv']),\n",
    "            np.exp(param_dict['defence_'+homeTeam] + param_dict['attack_'+awayTeam])]\n",
    "\n",
    "def dixon_coles_simulate_match(params_dict, homeTeam, awayTeam, max_goals=10):\n",
    "    team_avgs = calc_means(params_dict, homeTeam, awayTeam)\n",
    "    team_pred = [[poisson.pmf(i, team_avg) for i in range(0, max_goals+1)] for team_avg in team_avgs]\n",
    "    output_matrix = np.outer(np.array(team_pred[0]), np.array(team_pred[1]))\n",
    "    correction_matrix = np.array([[rho_correction(home_goals, away_goals, team_avgs[0],\n",
    "                                                   team_avgs[1], params['rho']) for away_goals in range(2)]\n",
    "                                   for home_goals in range(2)])\n",
    "    output_matrix[:2,:2] = output_matrix[:2,:2] * correction_matrix\n",
    "    return output_matrix"
   ]
  },
  {
   "cell_type": "code",
   "execution_count": 17,
   "metadata": {},
   "outputs": [],
   "source": [
    "ars_sou_dc = dixon_coles_simulate_match(params, 'Arsenal', 'Southampton', max_goals=10)"
   ]
  },
  {
   "cell_type": "code",
   "execution_count": 18,
   "metadata": {},
   "outputs": [
    {
     "name": "stdout",
     "output_type": "stream",
     "text": [
      "Arsenal Win\n",
      "Basic Poisson: 0.71846; Dixon-Coles: 0.70953\n",
      "Southampton Win\n",
      "Basic Poisson: 0.11446; Dixon-Coles: 0.10436\n",
      "Draw\n",
      "Basic Poisson: 0.16703; Dixon-Coles: 0.18606\n"
     ]
    }
   ],
   "source": [
    "# [Simple Poisson, Dixon-Coles]\n",
    "print(\"Arsenal Win\")\n",
    "print('; '.join(\"{0}: {1:.5f}\".format(model, prob) for model,prob in \n",
    "          zip([\"Basic Poisson\", \"Dixon-Coles\"], list(map(lambda x:np.sum(np.tril(x, -1)), [ars_sou, ars_sou_dc])))))\n",
    "print(\"Southampton Win\")\n",
    "print('; '.join(\"{0}: {1:.5f}\".format(model, prob) for model,prob in \n",
    "          zip([\"Basic Poisson\", \"Dixon-Coles\"], list(map(lambda x:np.sum(np.triu(x, 1)), [ars_sou, ars_sou_dc])))))\n",
    "print(\"Draw\")\n",
    "print('; '.join(\"{0}: {1:.5f}\".format(model, prob) for model,prob in \n",
    "          zip([\"Basic Poisson\", \"Dixon-Coles\"], list(map(lambda x:np.sum(np.diag(x)), [ars_sou, ars_sou_dc])))))"
   ]
  },
  {
   "cell_type": "markdown",
   "metadata": {},
   "source": [
    "As you can see, the DC model reports a higher probability of a draw compared to the BP model. In fact, you can plot the difference in the match score probability matrices between the two models."
   ]
  },
  {
   "cell_type": "code",
   "execution_count": 19,
   "metadata": {},
   "outputs": [
    {
     "data": {
      "image/png": "[encoded data removed]",
      "text/plain": [
       "<matplotlib.figure.Figure at 0x1b5b4be0>"
      ]
     },
     "metadata": {},
     "output_type": "display_data"
    }
   ],
   "source": [
    "cmap = sns.diverging_palette(10, 133, as_cmap=True)\n",
    "\n",
    "fig, ax = plt.subplots(figsize=(5,5))    \n",
    "with sns.axes_style(\"white\"):\n",
    "    ax = sns.heatmap(simulate_match(poisson_model, 'Arsenal', 'Southampton', max_goals=5) - \\\n",
    "                     dixon_coles_simulate_match(params, 'Arsenal', 'Southampton', max_goals=5), \n",
    "                     annot=True, fmt='.4f', cmap=cmap, vmin=-0.013, vmax=.013, center=0.00,\n",
    "                     square=True, linewidths=.5, annot_kws={\"size\": 11}, cbar_kws={\"shrink\": .8})\n",
    "    ax.tick_params(axis=u'both', which=u'both',length=0)\n",
    "    ax.grid(which='major', axis='both', linestyle='')\n",
    "    ax.set_xlabel('Away Team Goals', fontsize=13)\n",
    "    ax.set_ylabel('Home Team Goals', fontsize=13)\n",
    "    ax.xaxis.set_label_position('top')\n",
    "    ax.xaxis.set_ticks_position('top')\n",
    "    plt.figtext(0.45, 0.07, '  BP Probs - DC Probs \\nArsenal v Southampton', horizontalalignment='center',\n",
    "                fontsize=14, multialignment='left', fontweight='bold')\n",
    "plt.tight_layout()\n",
    "plt.show()"
   ]
  },
  {
   "cell_type": "markdown",
   "metadata": {},
   "source": [
    "In one way, this is a good plot. The correction was only intended to have an effect on 4 specific match results (0-0, 1-0, 0-1 and 1-1) and that's what has happened. On the other hand, that was alot of hard work to essentially tweak the existing model. And that's without even considering whether it was a beneficial adjustment. Without exploring that point any further, I'm going to discuss the second advancement introduced by the DC model."
   ]
  },
  {
   "cell_type": "markdown",
   "metadata": {},
   "source": [
    "## Dixon-Coles Time Decay Model\n",
    "\n",
    "Crystal Palace famously (!) lost their opening seven fixtures of the 2017/18 EPL season, conceding 17 times and scoring zero goals. During his short reign, Ronald De Boer had disastrously tried to transform Palace into a more attractive, possession based side. Under their new manager, Roy Hodgson, they returned to their traditional counter attacking style. They recovered well from their poor start to end the season in a respectable 11th place.\n",
    "\n",
    "Intuitively, if you were trying to predict a Crystal Palace match in January 2018, you would want the model to somewhat discount those losses in August and September 2017. That's the rationale behind adding a time component to the adjusted Poisson model outlined above. How exactly to down-weight those earlier games is the tricky part. Two weighting options offered in the Dixon-Coles paper are illustrated below."
   ]
  },
  {
   "cell_type": "code",
   "execution_count": 20,
   "metadata": {},
   "outputs": [
    {
     "data": {
      "image/png": "[encoded data removed]",
      "text/plain": [
       "<matplotlib.figure.Figure at 0x1c053ac8>"
      ]
     },
     "metadata": {},
     "output_type": "display_data"
    }
   ],
   "source": [
    "fig,(ax1,ax2) = plt.subplots(2, 1, figsize=(10,5))\n",
    "\n",
    "ax1.plot(range(1000), [0 if y >600 else 1 for y in range(1000)], label='Component 1', color='#38003c', marker='')\n",
    "ax2.plot(range(1000), np.exp([y*-0.005 for y in range(1000)]), label='Component 1', color='#07F2F2', marker='')\n",
    "ax2.plot(range(1000), np.exp([y*-0.003 for y in range(1000)]), label='Component 1', color='#05F26C', marker='')\n",
    "ax2.plot(range(1000), np.exp([y*-0.001 for y in range(1000)]), label='Component 1', color='#e90052', marker='')\n",
    "\n",
    "ax1.set_ylim([-0.05,1.05])\n",
    "ax2.set_ylim([-0.05,1.05])\n",
    "ax1.set_xlim([-0.5,1000])\n",
    "ax2.set_xlim([-0.5,1000])\n",
    "ax1.set_xticklabels([])\n",
    "ax2.xaxis.set_tick_params(labelsize=12)\n",
    "ax1.yaxis.set_tick_params(labelsize=12)\n",
    "ax2.yaxis.set_tick_params(labelsize=12)\n",
    "ax1.set_title(\"Time Decay Weighting Functions\",size=14,fontweight='bold')\n",
    "ax2.set_xlabel(\"Number of Days Ago\",size=13)\n",
    "ax1.set_ylabel(\"ϕ(t)\",size=13)\n",
    "ax2.set_ylabel(\"ϕ(t)\",size=13)\n",
    "ax1.text(830, 0.5, '1     $t \\leq \\mathregular{t_0}$\\n0     $t > \\mathregular{t_0}$',\n",
    "        verticalalignment='bottom', horizontalalignment='left',\n",
    "        color='black', fontsize=15)\n",
    "ax1.text(800, 0.5, '{',\n",
    "        verticalalignment='bottom', horizontalalignment='left',\n",
    "        color='black', fontsize=44)\n",
    "ax1.text(730, 0.62, 'ϕ(t)  = ',\n",
    "        verticalalignment='bottom', horizontalalignment='left',\n",
    "        color='black', fontsize=15)\n",
    "ax2.text(730, 0.62, 'ϕ(t)  =   exp(−ξt)',\n",
    "        verticalalignment='bottom', horizontalalignment='left',\n",
    "        color='black', fontsize=15)\n",
    "ax2.text(250, 0.8, 'ξ = 0.001',\n",
    "        verticalalignment='bottom', horizontalalignment='left',\n",
    "        color='#e90052', fontsize=15)\n",
    "ax2.text(250, 0.5, 'ξ = 0.003',\n",
    "        verticalalignment='bottom', horizontalalignment='left',\n",
    "        color='#05F26C', fontsize=15)\n",
    "ax2.text(250, 0.0, 'ξ = 0.005',\n",
    "        verticalalignment='bottom', horizontalalignment='left',\n",
    "        color='#07F2F2', fontsize=15)\n",
    "plt.tight_layout()\n",
    "plt.show()"
   ]
  },
  {
   "cell_type": "markdown",
   "metadata": {},
   "source": [
    "The first option forces the model to only consider matches within some predefined period (e.g. since the start of the season), while the negative exponential downweights match results more strongly going further into the past. The refined model can be written in these mathematical terms:\n",
    "\n",
    "$$\n",
    "L(\\alpha_i, \\beta_i, \\rho, \\gamma, i=1,\\dots,n) = \\prod_{k \\in A_t}\\{\\tau_{\\lambda_k,\\mu_k}(x_k, y_k) \\frac{e^{-\\lambda} \\lambda^{x_k} }{x_k!} \\frac{e^{-\\mu} \\mu^{y_k} }{y_k!}\\}^{\\phi(t-t_k)}\n",
    "$$\n",
    "\n",
    "where $t_k$ represents the time that match $k$ was played,  $A_t = \\{k: t_k < t\\}$ (i.e. set of matches played before time $t$), $\\alpha$, $\\beta$, $\\gamma$ and $\\tau$ are defined as before. $\\phi$ represents the non-increasing weighting function. Copying the original Dixon Coles paper, we'll set $\\phi(t)$ to be a negative exponential with rate $\\xi$ (called xi). As before, we need to determine the parameters that maximise this likelihood function. We can't just feed this equation into a minimisation algorithm for various reasons (e.g. we can trivially maximise this function by increasing $\\xi$). Instead, we'll fix $\\xi$ and determine the remaining parameters the same way as before. We can thus write the corresponding log-likelihood function in the following Python code (recall $\\log(a^b) = \\log(a) \\log(b)$). Note how $\\xi$=0 equates to the standard non-time weighted log-likelihood function."
   ]
  },
  {
   "cell_type": "code",
   "execution_count": 21,
   "metadata": {},
   "outputs": [],
   "source": [
    "def dc_log_like_decay(x, y, alpha_x, beta_x, alpha_y, beta_y, rho, gamma, t, xi=0):\n",
    "    lambda_x, mu_y = np.exp(alpha_x + beta_y + gamma), np.exp(alpha_y + beta_x) \n",
    "    return  np.exp(-xi*t) * (np.log(rho_correction(x, y, lambda_x, mu_y, rho)) + \n",
    "                              np.log(poisson.pmf(x, lambda_x)) + np.log(poisson.pmf(y, mu_y)))"
   ]
  },
  {
   "cell_type": "markdown",
   "metadata": {},
   "source": [
    "To determine the optimal value of $\\xi$, we'll select the model that makes the best predictions. Repeating the process in the Dixon-Coles paper, rather working on match score predictions, the models will be assessed on match result predictions. Essentially, the model that predicted the actual match results with the highest probability will be deemed the winner. An obvious flaw here is that only one match result is considered. For example, if the result was a home win, then the draw and away win probabilities are ignored. Alternative approaches could utilise [Ranked Probability Scores](http://opisthokonta.net/?p=1548) or betting probabilities. But we'll keep things simple and replicate the Dixon Coles paper. We can redefine the objective in mathematical terms; we wish to find $\\xi$ that maximises $S(\\xi)$:\n",
    "\n",
    "$$\n",
    "S(\\xi) = \\sum^{N}_{k=1} (\\delta^{H}_{k} \\log p^{H}_{k} + \\delta^{A}_{k} \\log p^{A}_{k} + \\delta^{D}_{k} \\log p^{D}_{k})\n",
    "$$\n",
    "\n",
    "This looks more complicated than it really is. The $\\delta$ terms just captures the match result e.g. $\\delta^{H}_{k}$ = 1 if match $k$ ended in a home win, while the $p$ terms are simply the match result probabilities. For example, we can rewrite $p^{H}_{k}$ (probability of home win): \n",
    "\n",
    "$$\n",
    "p^{H}_{k} = \\sum_{l,m \\in B_H} P(X_k = l, Y_k = m), \\text{ where } B_H = \\{(l,m): l>m\\}\n",
    "$$ \n",
    "\n",
    "Each of these $p$ terms translates to the matrix operations outlined previously. One part that will change is the log likelihood function.\n",
    "\n",
    "To assess the predictive accuracy of the model, we'll utilise an approach analogous to the validation set in machine learning. Let's say we're trying to predict the fixtures occurring on the 13th January 2018. With $\\xi$ fixed to a specific value, we use all of the previous results in that season to build a model. We determine how that model predicted the actual results of those matches with the above equations. We move onto the next set of fixtures (say 20th January) and build the model again- this time including the 13th January games- and assess how well it predicted the results of those matches. We repeat this process for the rest of the 2017/18 season. When we sum up all of these predictions, you have calculated what is called the predicted profile log-likelihood for that value of $\\xi$. \n",
    "\n",
    "However, a new model must be built for each set of fixtures, so this can be quite slow. I have taken a few steps to speed up the computations:\n",
    "\n",
    "1. Predicting the fixtures for the last 100 days of the 2017/18 EPL season. This is probably preferable anyway, as early season predictions would be quite unreliable.\n",
    "2. Forming match days consisting of three consecutive days (i.e. on Saturday we'll try to predict matches taking place on Saturday, Sunday and Monday). This should be okay, as teams tend not to play more than once in three days (except at Christmas, which isn't included in the validation period).\n",
    "\n",
    "We need to make some slight adjustments to the `epl_1718` dataframe to include columns that represent the number of days since the completion of that fixture as well as the match result (home, away or draw)."
   ]
  },
  {
   "cell_type": "code",
   "execution_count": 22,
   "metadata": {},
   "outputs": [
    {
     "data": {
      "text/html": [
       "<div>\n",
       "<style scoped>\n",
       "    .dataframe tbody tr th:only-of-type {\n",
       "        vertical-align: middle;\n",
       "    }\n",
       "\n",
       "    .dataframe tbody tr th {\n",
       "        vertical-align: top;\n",
       "    }\n",
       "\n",
       "    .dataframe thead th {\n",
       "        text-align: right;\n",
       "    }\n",
       "</style>\n",
       "<table border=\"1\" class=\"dataframe\">\n",
       "  <thead>\n",
       "    <tr style=\"text-align: right;\">\n",
       "      <th></th>\n",
       "      <th>HomeTeam</th>\n",
       "      <th>AwayTeam</th>\n",
       "      <th>HomeGoals</th>\n",
       "      <th>AwayGoals</th>\n",
       "      <th>FTR</th>\n",
       "      <th>time_diff</th>\n",
       "    </tr>\n",
       "  </thead>\n",
       "  <tbody>\n",
       "    <tr>\n",
       "      <th>0</th>\n",
       "      <td>Arsenal</td>\n",
       "      <td>Leicester</td>\n",
       "      <td>4</td>\n",
       "      <td>3</td>\n",
       "      <td>H</td>\n",
       "      <td>275</td>\n",
       "    </tr>\n",
       "    <tr>\n",
       "      <th>1</th>\n",
       "      <td>Brighton</td>\n",
       "      <td>Man City</td>\n",
       "      <td>0</td>\n",
       "      <td>2</td>\n",
       "      <td>A</td>\n",
       "      <td>274</td>\n",
       "    </tr>\n",
       "    <tr>\n",
       "      <th>2</th>\n",
       "      <td>Chelsea</td>\n",
       "      <td>Burnley</td>\n",
       "      <td>2</td>\n",
       "      <td>3</td>\n",
       "      <td>A</td>\n",
       "      <td>274</td>\n",
       "    </tr>\n",
       "    <tr>\n",
       "      <th>3</th>\n",
       "      <td>Crystal Palace</td>\n",
       "      <td>Huddersfield</td>\n",
       "      <td>0</td>\n",
       "      <td>3</td>\n",
       "      <td>A</td>\n",
       "      <td>274</td>\n",
       "    </tr>\n",
       "    <tr>\n",
       "      <th>4</th>\n",
       "      <td>Everton</td>\n",
       "      <td>Stoke</td>\n",
       "      <td>1</td>\n",
       "      <td>0</td>\n",
       "      <td>H</td>\n",
       "      <td>274</td>\n",
       "    </tr>\n",
       "  </tbody>\n",
       "</table>\n",
       "</div>"
      ],
      "text/plain": [
       "         HomeTeam      AwayTeam  HomeGoals  AwayGoals FTR  time_diff\n",
       "0         Arsenal     Leicester          4          3   H        275\n",
       "1        Brighton      Man City          0          2   A        274\n",
       "2         Chelsea       Burnley          2          3   A        274\n",
       "3  Crystal Palace  Huddersfield          0          3   A        274\n",
       "4         Everton         Stoke          1          0   H        274"
      ]
     },
     "execution_count": 22,
     "metadata": {},
     "output_type": "execute_result"
    }
   ],
   "source": [
    "epl_1718 = pd.read_csv(\"http://www.football-data.co.uk/mmz4281/1718/E0.csv\")\n",
    "epl_1718['Date'] = pd.to_datetime(epl_1718['Date'],  format='%d/%m/%y')\n",
    "epl_1718['time_diff'] = (max(epl_1718['Date']) - epl_1718['Date']).dt.days\n",
    "epl_1718 = epl_1718[['HomeTeam','AwayTeam','FTHG','FTAG', 'FTR', 'time_diff']]\n",
    "epl_1718 = epl_1718.rename(columns={'FTHG': 'HomeGoals', 'FTAG': 'AwayGoals'})\n",
    "epl_1718.head()"
   ]
  },
  {
   "cell_type": "markdown",
   "metadata": {},
   "source": [
    "With this dataframe, we're now ready to compare different values of $\\xi$. To speed up this process even further, I made the code parallelisable and ran it across my computer's multiple (4) cores (see [Python file](https://github.com/dashee87/blogScripts/blob/master/Python/2018-09-13-dixon-coles-and-time-weighting/dixon_coles_decay_xi_1season.py))."
   ]
  },
  {
   "cell_type": "markdown",
   "metadata": {},
   "source": [
    "Here's an example of how you would build a model for a given value of $\\xi$."
   ]
  },
  {
   "cell_type": "code",
   "execution_count": 23,
   "metadata": {},
   "outputs": [],
   "source": [
    "def solve_parameters_decay(dataset, xi=0.001, debug = False, init_vals=None, options={'disp': True, 'maxiter':100},\n",
    "                     constraints = [{'type':'eq', 'fun': lambda x: sum(x[:20])-20}] , **kwargs):\n",
    "    teams = np.sort(dataset['HomeTeam'].unique())\n",
    "    # check for no weirdness in dataset\n",
    "    away_teams = np.sort(dataset['AwayTeam'].unique())\n",
    "    if not np.array_equal(teams, away_teams):\n",
    "        raise ValueError(\"something not right\")\n",
    "    n_teams = len(teams)\n",
    "    if init_vals is None:\n",
    "        # random initialisation of model parameters\n",
    "        init_vals = np.concatenate((np.random.uniform(0,1,(n_teams)), # attack strength\n",
    "                                      np.random.uniform(0,-1,(n_teams)), # defence strength\n",
    "                                      np.array([0,1.0]) # rho (score correction), gamma (home advantage)\n",
    "                                     ))\n",
    "        \n",
    "    def dc_log_like_decay(x, y, alpha_x, beta_x, alpha_y, beta_y, rho, gamma, t, xi=xi):\n",
    "        lambda_x, mu_y = np.exp(alpha_x + beta_y + gamma), np.exp(alpha_y + beta_x) \n",
    "        return  np.exp(-xi*t) * (np.log(rho_correction(x, y, lambda_x, mu_y, rho)) + \n",
    "                                  np.log(poisson.pmf(x, lambda_x)) + np.log(poisson.pmf(y, mu_y)))\n",
    "\n",
    "    def estimate_paramters(params):\n",
    "        score_coefs = dict(zip(teams, params[:n_teams]))\n",
    "        defend_coefs = dict(zip(teams, params[n_teams:(2*n_teams)]))\n",
    "        rho, gamma = params[-2:]\n",
    "        log_like = [dc_log_like_decay(row.HomeGoals, row.AwayGoals, score_coefs[row.HomeTeam], defend_coefs[row.HomeTeam],\n",
    "                                      score_coefs[row.AwayTeam], defend_coefs[row.AwayTeam], \n",
    "                                      rho, gamma, row.time_diff, xi=xi) for row in dataset.itertuples()]\n",
    "        return -sum(log_like)\n",
    "    opt_output = minimize(estimate_paramters, init_vals, options=options, constraints = constraints)\n",
    "    if debug:\n",
    "        # sort of hacky way to investigate the output of the optimisation process\n",
    "        return opt_output\n",
    "    else:\n",
    "        return dict(zip([\"attack_\"+team for team in teams] + \n",
    "                        [\"defence_\"+team for team in teams] +\n",
    "                        ['rho', 'home_adv'],\n",
    "                        opt_output.x)) "
   ]
  },
  {
   "cell_type": "code",
   "execution_count": 29,
   "metadata": {},
   "outputs": [
    {
     "name": "stderr",
     "output_type": "stream",
     "text": [
      "C:\\Program Files\\Anaconda3\\lib\\site-packages\\ipykernel\\__main__.py:19: RuntimeWarning: divide by zero encountered in log\n",
      "C:\\Program Files\\Anaconda3\\lib\\site-packages\\ipykernel\\__main__.py:19: RuntimeWarning: invalid value encountered in log\n"
     ]
    },
    {
     "name": "stdout",
     "output_type": "stream",
     "text": [
      "Optimization terminated successfully.    (Exit mode 0)\n",
      "            Current function value: 832.6598919947251\n",
      "            Iterations: 57\n",
      "            Function evaluations: 2591\n",
      "            Gradient evaluations: 57\n"
     ]
    }
   ],
   "source": [
    "params_xi= solve_parameters_decay(epl_1718, xi=0.0018)"
   ]
  },
  {
   "cell_type": "code",
   "execution_count": 30,
   "metadata": {},
   "outputs": [
    {
     "data": {
      "text/plain": [
       "{'attack_Arsenal': 1.459359825665913,\n",
       " 'attack_Bournemouth': 0.98548812269897101,\n",
       " 'attack_Brighton': 0.69928422302046023,\n",
       " 'attack_Burnley': 0.70438832368655013,\n",
       " 'attack_Chelsea': 1.237437438892127,\n",
       " 'attack_Crystal Palace': 1.0097682473665683,\n",
       " 'attack_Everton': 0.9428985361381057,\n",
       " 'attack_Huddersfield': 0.46240917979537055,\n",
       " 'attack_Leicester': 1.1875116871423517,\n",
       " 'attack_Liverpool': 1.5541224693582534,\n",
       " 'attack_Man City': 1.7731920465370199,\n",
       " 'attack_Man United': 1.2929730275312661,\n",
       " 'attack_Newcastle': 0.78056037276065382,\n",
       " 'attack_Southampton': 0.77003709044338475,\n",
       " 'attack_Stoke': 0.70047517921741564,\n",
       " 'attack_Swansea': 0.46826411268319407,\n",
       " 'attack_Tottenham': 1.4286267191661257,\n",
       " 'attack_Watford': 0.88736333694844993,\n",
       " 'attack_West Brom': 0.5979457847940215,\n",
       " 'attack_West Ham': 1.0578942761537991,\n",
       " 'defence_Arsenal': -0.90356267987505035,\n",
       " 'defence_Bournemouth': -0.74358179296946358,\n",
       " 'defence_Brighton': -0.88574910023051245,\n",
       " 'defence_Burnley': -1.1824061930794463,\n",
       " 'defence_Chelsea': -1.1924531736596777,\n",
       " 'defence_Crystal Palace': -0.87597103833354728,\n",
       " 'defence_Everton': -0.82108301652359961,\n",
       " 'defence_Huddersfield': -0.84877581113242917,\n",
       " 'defence_Leicester': -0.73456755957155306,\n",
       " 'defence_Liverpool': -1.2115262625269354,\n",
       " 'defence_Man City': -1.5083032232643223,\n",
       " 'defence_Man United': -1.5143357881502932,\n",
       " 'defence_Newcastle': -1.0661641194228164,\n",
       " 'defence_Southampton': -0.85567479061180118,\n",
       " 'defence_Stoke': -0.68770917957083011,\n",
       " 'defence_Swansea': -0.8574676210550618,\n",
       " 'defence_Tottenham': -1.2568189522313862,\n",
       " 'defence_Watford': -0.72640043692250356,\n",
       " 'defence_West Brom': -0.87338443149321254,\n",
       " 'defence_West Ham': -0.6651487915348171,\n",
       " 'home_adv': 0.30318583358836226,\n",
       " 'rho': -0.13183834824024149}"
      ]
     },
     "execution_count": 30,
     "metadata": {},
     "output_type": "execute_result"
    }
   ],
   "source": [
    "params_xi"
   ]
  },
  {
   "cell_type": "code",
   "execution_count": 31,
   "metadata": {},
   "outputs": [
    {
     "data": {
      "image/png": "[encoded data removed]",
      "text/plain": [
       "<matplotlib.figure.Figure at 0x1b61c6a0>"
      ]
     },
     "metadata": {},
     "output_type": "display_data"
    }
   ],
   "source": [
    "xi_vals = [0.0, 0.0002, 0.0004, 0.0006, 0.0008, 0.001, 0.0012, 0.0014, 0.0016, 0.0018, \n",
    "            0.002, 0.0025, 0.003, 0.0035,  0.0035, 0.004,  0.0045, 0.005]\n",
    "\n",
    "# I pulled the scores from files on my computer that had been generated seperately\n",
    "#xi_scores = []\n",
    "#for xi in xi_vals:\n",
    "#    with open ('find_xi__{}.txt'.format(str(xi)[2:]), 'rb') as fp:\n",
    "#        xi_scores.append(sum(pickle.load(fp)))\n",
    "        \n",
    "xi_scores = [-125.38424297397718, -125.3994150871104, -125.41582329299528, -125.43330024318175, -125.45167361727589,\n",
    "              -125.47148572476918, -125.49165987944551, -125.51283291929082, -125.53570389317336, -125.5588181265923,\n",
    "              -125.58171066742123, -125.64545123148538, -125.71506317675832, -125.78763678848986, -125.78763678848986,\n",
    "              -125.8651515986525, -125.94721517841089, -126.03247674382676]\n",
    "\n",
    "fig, ax1 = plt.subplots(1, 1, figsize=(10,4))\n",
    "\n",
    "ax1.plot(xi_vals, xi_scores, label='Component 1', color='#F2055C', marker='o')\n",
    "ax1.set_ylim([-126.20, -125.20])\n",
    "ax1.set_xlim([-0.0001,0.0051])\n",
    "#ax1.set_xticklabels([])\n",
    "ax1.set_ylabel('S(ξ)', fontsize=13)\n",
    "ax1.set_xlabel('ξ', fontsize=13)\n",
    "ax1.xaxis.set_tick_params(labelsize=12)\n",
    "ax1.yaxis.set_tick_params(labelsize=12)\n",
    "ax1.set_title(\"Predictive Profile Log-Likelihood (EPL 2017/18 Season)\",size=14,fontweight='bold')\n",
    "plt.show()"
   ]
  },
  {
   "cell_type": "markdown",
   "metadata": {},
   "source": [
    "It seems that $S(\\xi)$ is minimised at $\\xi$=0 (remember that $\\xi \\geq 0$), which is simply the standard non-weighted DC model. I suppose this makes sense: If you only have data for the season in question, then you don't have the luxury of down-weighting older results. In the Dixon-Coles paper, they actually compiled data from 4 consecutive seasons (1992/93 to 95/96). You'd expect time weighting to become more effective as the timeframe of your data expands. In other words, the first game of the same season might well be valuable, but the first game of the season five years ago is presumably less valuable. To investigate this hypothesis, we'll pull data for the previous 5 completed EPL seasons (i.e. 2013/14 to 17/18)."
   ]
  },
  {
   "cell_type": "code",
   "execution_count": 32,
   "metadata": {},
   "outputs": [
    {
     "data": {
      "text/html": [
       "<div>\n",
       "<style scoped>\n",
       "    .dataframe tbody tr th:only-of-type {\n",
       "        vertical-align: middle;\n",
       "    }\n",
       "\n",
       "    .dataframe tbody tr th {\n",
       "        vertical-align: top;\n",
       "    }\n",
       "\n",
       "    .dataframe thead th {\n",
       "        text-align: right;\n",
       "    }\n",
       "</style>\n",
       "<table border=\"1\" class=\"dataframe\">\n",
       "  <thead>\n",
       "    <tr style=\"text-align: right;\">\n",
       "      <th></th>\n",
       "      <th>HomeTeam</th>\n",
       "      <th>AwayTeam</th>\n",
       "      <th>HomeGoals</th>\n",
       "      <th>AwayGoals</th>\n",
       "      <th>FTR</th>\n",
       "      <th>time_diff</th>\n",
       "    </tr>\n",
       "  </thead>\n",
       "  <tbody>\n",
       "    <tr>\n",
       "      <th>0</th>\n",
       "      <td>Arsenal</td>\n",
       "      <td>Aston Villa</td>\n",
       "      <td>1.0</td>\n",
       "      <td>3.0</td>\n",
       "      <td>A</td>\n",
       "      <td>1730.0</td>\n",
       "    </tr>\n",
       "    <tr>\n",
       "      <th>1</th>\n",
       "      <td>Liverpool</td>\n",
       "      <td>Stoke</td>\n",
       "      <td>1.0</td>\n",
       "      <td>0.0</td>\n",
       "      <td>H</td>\n",
       "      <td>1730.0</td>\n",
       "    </tr>\n",
       "    <tr>\n",
       "      <th>2</th>\n",
       "      <td>Norwich</td>\n",
       "      <td>Everton</td>\n",
       "      <td>2.0</td>\n",
       "      <td>2.0</td>\n",
       "      <td>D</td>\n",
       "      <td>1730.0</td>\n",
       "    </tr>\n",
       "    <tr>\n",
       "      <th>3</th>\n",
       "      <td>Sunderland</td>\n",
       "      <td>Fulham</td>\n",
       "      <td>0.0</td>\n",
       "      <td>1.0</td>\n",
       "      <td>A</td>\n",
       "      <td>1730.0</td>\n",
       "    </tr>\n",
       "    <tr>\n",
       "      <th>4</th>\n",
       "      <td>Swansea</td>\n",
       "      <td>Man United</td>\n",
       "      <td>1.0</td>\n",
       "      <td>4.0</td>\n",
       "      <td>A</td>\n",
       "      <td>1730.0</td>\n",
       "    </tr>\n",
       "  </tbody>\n",
       "</table>\n",
       "</div>"
      ],
      "text/plain": [
       "     HomeTeam     AwayTeam  HomeGoals  AwayGoals FTR  time_diff\n",
       "0     Arsenal  Aston Villa        1.0        3.0   A     1730.0\n",
       "1   Liverpool        Stoke        1.0        0.0   H     1730.0\n",
       "2     Norwich      Everton        2.0        2.0   D     1730.0\n",
       "3  Sunderland       Fulham        0.0        1.0   A     1730.0\n",
       "4     Swansea   Man United        1.0        4.0   A     1730.0"
      ]
     },
     "execution_count": 32,
     "metadata": {},
     "output_type": "execute_result"
    }
   ],
   "source": [
    "epl_1318 = pd.DataFrame()\n",
    "for year in range(13,18):\n",
    "    epl_1318 = pd.concat((epl_1318, pd.read_csv(\"http://www.football-data.co.uk/mmz4281/{}{}/E0.csv\".format(year, year+1))))\n",
    "epl_1318['Date'] = pd.to_datetime(epl_1318['Date'],  format='%d/%m/%y')\n",
    "epl_1318['time_diff'] = (max(epl_1318['Date']) - epl_1318['Date']).dt.days\n",
    "epl_1318 = epl_1318[['HomeTeam','AwayTeam','FTHG','FTAG', 'FTR', 'time_diff']]\n",
    "epl_1318 = epl_1318.rename(columns={'FTHG': 'HomeGoals', 'FTAG': 'AwayGoals'})\n",
    "epl_1318 = epl_1318.dropna(how='all')\n",
    "epl_1318.head()"
   ]
  },
  {
   "cell_type": "markdown",
   "metadata": {},
   "source": [
    "Same procedure as before, with varying values of $\\xi$, we'll quanitfy how well the model predicted the match results of the second half of the 17/18 EPL season. Again, I ran the program across multiple cores (see [Python file](https://github.com/dashee87/blogScripts/blob/master/Python/2018-09-13-dixon-coles-and-time-weighting/dixon_coles_decay_xi_5season.py))."
   ]
  },
  {
   "cell_type": "code",
   "execution_count": 33,
   "metadata": {},
   "outputs": [
    {
     "data": {
      "image/png": "[encoded data removed]",
      "text/plain": [
       "<matplotlib.figure.Figure at 0x1c071a90>"
      ]
     },
     "metadata": {},
     "output_type": "display_data"
    }
   ],
   "source": [
    "xi_vals = [0.0, 0.0005, 0.001, 0.0015, 0.002, 0.0025, 0.00275, 0.003, 0.00325, \n",
    "            0.0035, 0.00375, 0.004, 0.00425, 0.0045, 0.005, 0.0055, 0.006]\n",
    "\n",
    "# I pulled the scores from files on my computer that had been generated seperately\n",
    "#xi_scores = []\n",
    "#for xi in xi_vals:\n",
    "#    with open ('find_xi_5season_{}.txt'.format(str(xi)[2:]), 'rb') as fp:\n",
    "#        xi_scores.append(sum(pickle.load(fp)))\n",
    "\n",
    "xi_scores =  [-127.64548699733858, -126.88558052909376, -126.24253680407995, -125.75657140537645, -125.43198691100818,\n",
    "               -125.24473381373896, -125.1929173322124, -125.16314084998176, -125.15259048041912, -125.15741294807299,\n",
    "               -125.17611832471187, -125.20427802084305, -125.24143128833828, -125.2863163741079, -125.39161839279092,\n",
    "               -125.51241118364625, -125.64269122223465]\n",
    "\n",
    "fig, ax1 = plt.subplots(1, 1, figsize=(10,4))\n",
    "\n",
    "ax1.plot(xi_vals, xi_scores, label='Component 1', color='#F2055C', marker='o')\n",
    "#ax1.set_ylim([-0.05,1.05])\n",
    "ax1.set_xlim([-0.0001, 0.0061])\n",
    "#ax1.set_xticklabels([])\n",
    "ax1.set_ylabel('S(ξ)', fontsize=13)\n",
    "ax1.set_xlabel('ξ', fontsize=13)\n",
    "ax1.xaxis.set_tick_params(labelsize=12)\n",
    "ax1.yaxis.set_tick_params(labelsize=12)\n",
    "ax1.set_title(\"Predictive Profile Log-Likelihood (EPL 13/14 - 17/18 Seasons)\",size=14,fontweight='bold')\n",
    "plt.show()"
   ]
  },
  {
   "cell_type": "markdown",
   "metadata": {},
   "source": [
    "Now we have a curve resembles the same function in the Dixon Coles paper. Initially, the model becomes more accurate as you apply a time decay to the historical results. However, at a certain point ($\\xi \\approx$ 0.00325), the weighting becomes too harsh and worsens the performance of the model.\n",
    "\n",
    "The Dixon Coles paper arrived at an optimal $\\xi$=0.0065. However, as they employed half-weeks as their unit of time, we need to divide this value by 3.5. As such, the optimal value here ($\\xi$ = 0.00325) is somewhat higher (note: the [opisthokonta blog](http://opisthokonta.net/?p=1013) returned a value of 0.0018, in agreement with the Dixon Coles paper). In this post, I utilised significantly fewer predictions, so it's possible that a more comparable approach would return a lower $\\xi$.\n",
    "\n",
    "Another interesting feature of the 5 season graph is that the maximum value of $S(\\xi)$ is -125.15. The maximum value of the 1 season $S(\\xi)$ is -125.38 (attained at $\\xi$=0). It's interesting that a data heavy appropriately time-weighted model returned a slightly better level of accuracy than the non-weighted model only using data from that season. That said, the approach outlined here was highly specific (predictions made on one particular season), so I would need to perform more analysis before I would draw any definitive conclusions from this result. Also, as shown in the [first post](https://dashee87.github.io/football/python/predicting-football-results-with-statistical-modelling/), making predictions towards the end of the season is notoriously difficult, which could also undermine any generalisation of these findings.\n",
    "\n",
    "## Conclusions\n",
    "\n",
    "We started out by exploring ([once again](https://dashee87.github.io/football/python/predicting-football-results-with-statistical-modelling/)) the basic Poisson model. We then included a bivariate adjustment term to account for the model's apparent difficulties with low scoring results. Finally, we extended this adjusted model to incorporate a time-decay component, so that older results are considered progressively less important than recent results.\n",
    "\n",
    "While I've described the different models in some detail, I haven't yet discussed whether these models will make you any money. They won't.\n",
    "\n",
    "You can start building your own models with the [Jupyter notebook](https://github.com/dashee87/blogScripts/blob/master/Jupyter/2018-09-13-predicting-football-results-with-statistical-modelling-dixon-coles-and-time-weighting.ipynb) and [Python files](https://github.com/dashee87/blogScripts/tree/master/Python/2018-09-13-dixon-coles-and-time-weighting) available from [my GitHub account](https://github.com/dashee87). Thanks for reading!"
   ]
  }
 ],
 "metadata": {
  "anaconda-cloud": {},
  "kernelspec": {
   "display_name": "Python [conda root]",
   "language": "python",
   "name": "conda-root-py"
  },
  "language_info": {
   "codemirror_mode": {
    "name": "ipython",
    "version": 3
   },
   "file_extension": ".py",
   "mimetype": "text/x-python",
   "name": "python",
   "nbconvert_exporter": "python",
   "pygments_lexer": "ipython3",
   "version": "3.5.2"
  }
 },
 "nbformat": 4,
 "nbformat_minor": 2
}
